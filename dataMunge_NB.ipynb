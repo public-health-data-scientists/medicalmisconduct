{
 "metadata": {
  "name": ""
 },
 "nbformat": 3,
 "nbformat_minor": 0,
 "worksheets": [
  {
   "cells": [
    {
     "cell_type": "code",
     "collapsed": false,
     "input": [
      "#LoadData\n",
      "import pandas as pd\n",
      "\n",
      "fileName = 'medical_misconduct.csv'\n",
      "data = pd.read_csv(fileName)"
     ],
     "language": "python",
     "metadata": {},
     "outputs": [],
     "prompt_number": 2
    },
    {
     "cell_type": "code",
     "collapsed": false,
     "input": [
      "#Explore Data"
     ],
     "language": "python",
     "metadata": {},
     "outputs": [],
     "prompt_number": 4
    },
    {
     "cell_type": "code",
     "collapsed": false,
     "input": [
      "data.head()"
     ],
     "language": "python",
     "metadata": {},
     "outputs": [
      {
       "html": [
        "<div style=\"max-height:1000px;max-width:1500px;overflow:auto;\">\n",
        "<table border=\"1\" class=\"dataframe\">\n",
        "  <thead>\n",
        "    <tr style=\"text-align: right;\">\n",
        "      <th></th>\n",
        "      <th>Name</th>\n",
        "      <th>Address</th>\n",
        "      <th>Zip Code</th>\n",
        "      <th>License Number</th>\n",
        "      <th>License Type</th>\n",
        "      <th>Birth Year</th>\n",
        "      <th>Effective Date</th>\n",
        "      <th>Age at Effective Date</th>\n",
        "      <th>Misconduct Description</th>\n",
        "      <th>Action</th>\n",
        "      <th>Formula</th>\n",
        "      <th>Fraud</th>\n",
        "      <th>Harass</th>\n",
        "      <th>Incompetence</th>\n",
        "      <th>Negligence</th>\n",
        "      <th>Sexual</th>\n",
        "      <th>Larceny</th>\n",
        "      <th>Other</th>\n",
        "      <th>Corporation</th>\n",
        "      <th>Revocation</th>\n",
        "      <th></th>\n",
        "    </tr>\n",
        "  </thead>\n",
        "  <tbody>\n",
        "    <tr>\n",
        "      <th>0</th>\n",
        "      <td>       Caruana, Dennis J</td>\n",
        "      <td>             P.O.Box 803\\rShoreham, New York 11786</td>\n",
        "      <td> 11786</td>\n",
        "      <td>  24</td>\n",
        "      <td>  SA</td>\n",
        "      <td> 1954</td>\n",
        "      <td> 9/21/01</td>\n",
        "      <td> 47</td>\n",
        "      <td> The specialist assistant did not contest the c...</td>\n",
        "      <td> License suspension for three years, stayed wit...</td>\n",
        "      <td> FORMULA</td>\n",
        "      <td> 0</td>\n",
        "      <td> 0</td>\n",
        "      <td> 0</td>\n",
        "      <td> 0</td>\n",
        "      <td> 0</td>\n",
        "      <td> 1</td>\n",
        "      <td> 0</td>\n",
        "      <td> 0</td>\n",
        "      <td> 0</td>\n",
        "      <td>...</td>\n",
        "    </tr>\n",
        "    <tr>\n",
        "      <th>1</th>\n",
        "      <td> Gimma, Michael Nicholas</td>\n",
        "      <td>        16 William Street\\rSpencer, New York 14883</td>\n",
        "      <td> 14883</td>\n",
        "      <td>  81</td>\n",
        "      <td>  SA</td>\n",
        "      <td> 1959</td>\n",
        "      <td> 11/8/05</td>\n",
        "      <td> 46</td>\n",
        "      <td> The specialist assistant did not contest the c...</td>\n",
        "      <td> Censure and reprimand and $1,000.fine.The spec...</td>\n",
        "      <td> FORMULA</td>\n",
        "      <td> 0</td>\n",
        "      <td> 0</td>\n",
        "      <td> 0</td>\n",
        "      <td> 0</td>\n",
        "      <td> 0</td>\n",
        "      <td> 0</td>\n",
        "      <td> 1</td>\n",
        "      <td> 0</td>\n",
        "      <td> 0</td>\n",
        "      <td>...</td>\n",
        "    </tr>\n",
        "    <tr>\n",
        "      <th>2</th>\n",
        "      <td>      McKenzie, Theodore</td>\n",
        "      <td> 38 Waterford Drive \\r Wheatley Heights, New Yo...</td>\n",
        "      <td> 11798</td>\n",
        "      <td> 116</td>\n",
        "      <td> RPA</td>\n",
        "      <td>  NaN</td>\n",
        "      <td> 7/29/97</td>\n",
        "      <td>NaN</td>\n",
        "      <td> The Hearing Committee sustained the charge fin...</td>\n",
        "      <td>                               License revocation.</td>\n",
        "      <td> FORMULA</td>\n",
        "      <td> 1</td>\n",
        "      <td> 0</td>\n",
        "      <td> 0</td>\n",
        "      <td> 0</td>\n",
        "      <td> 0</td>\n",
        "      <td> 0</td>\n",
        "      <td> 0</td>\n",
        "      <td> 0</td>\n",
        "      <td> 1</td>\n",
        "      <td>...</td>\n",
        "    </tr>\n",
        "    <tr>\n",
        "      <th>3</th>\n",
        "      <td>            Dawson, John</td>\n",
        "      <td>  150 West 225 Street\\rApartment 6K \\r Bronx, N...</td>\n",
        "      <td> 10463</td>\n",
        "      <td> 230</td>\n",
        "      <td> RPA</td>\n",
        "      <td>  NaN</td>\n",
        "      <td> 3/21/94</td>\n",
        "      <td>NaN</td>\n",
        "      <td> The physician assistant admitted to having bee...</td>\n",
        "      <td> Registration suspension for one year, stayed w...</td>\n",
        "      <td> FORMULA</td>\n",
        "      <td> 0</td>\n",
        "      <td> 0</td>\n",
        "      <td> 0</td>\n",
        "      <td> 0</td>\n",
        "      <td> 0</td>\n",
        "      <td> 0</td>\n",
        "      <td> 1</td>\n",
        "      <td> 0</td>\n",
        "      <td> 0</td>\n",
        "      <td>...</td>\n",
        "    </tr>\n",
        "    <tr>\n",
        "      <th>4</th>\n",
        "      <td>           Gelpi, Angelo</td>\n",
        "      <td> 489 East 183rd Street \\r #46 \\r Bronx, New Yor...</td>\n",
        "      <td> 10458</td>\n",
        "      <td> 233</td>\n",
        "      <td> RPA</td>\n",
        "      <td> 1941</td>\n",
        "      <td> 3/21/00</td>\n",
        "      <td> 59</td>\n",
        "      <td> The Hearing Committee sustained the charges fi...</td>\n",
        "      <td>                                License revocation</td>\n",
        "      <td> FORMULA</td>\n",
        "      <td> 0</td>\n",
        "      <td> 0</td>\n",
        "      <td> 0</td>\n",
        "      <td> 0</td>\n",
        "      <td> 0</td>\n",
        "      <td> 0</td>\n",
        "      <td> 1</td>\n",
        "      <td> 0</td>\n",
        "      <td> 1</td>\n",
        "      <td>...</td>\n",
        "    </tr>\n",
        "  </tbody>\n",
        "</table>\n",
        "<p>5 rows \u00d7 28 columns</p>\n",
        "</div>"
       ],
       "metadata": {},
       "output_type": "pyout",
       "prompt_number": 6,
       "text": [
        "                      Name                                            Address  \\\n",
        "0        Caruana, Dennis J              P.O.Box 803\\rShoreham, New York 11786   \n",
        "1  Gimma, Michael Nicholas         16 William Street\\rSpencer, New York 14883   \n",
        "2       McKenzie, Theodore  38 Waterford Drive \\r Wheatley Heights, New Yo...   \n",
        "3             Dawson, John   150 West 225 Street\\rApartment 6K \\r Bronx, N...   \n",
        "4            Gelpi, Angelo  489 East 183rd Street \\r #46 \\r Bronx, New Yor...   \n",
        "\n",
        "  Zip Code License Number License Type  Birth Year Effective Date  \\\n",
        "0    11786             24           SA        1954        9/21/01   \n",
        "1    14883             81           SA        1959        11/8/05   \n",
        "2    11798            116          RPA         NaN        7/29/97   \n",
        "3    10463            230          RPA         NaN        3/21/94   \n",
        "4    10458            233          RPA        1941        3/21/00   \n",
        "\n",
        "   Age at Effective Date                             Misconduct Description  \\\n",
        "0                     47  The specialist assistant did not contest the c...   \n",
        "1                     46  The specialist assistant did not contest the c...   \n",
        "2                    NaN  The Hearing Committee sustained the charge fin...   \n",
        "3                    NaN  The physician assistant admitted to having bee...   \n",
        "4                     59  The Hearing Committee sustained the charges fi...   \n",
        "\n",
        "                                              Action  Formula  Fraud  Harass  \\\n",
        "0  License suspension for three years, stayed wit...  FORMULA      0       0   \n",
        "1  Censure and reprimand and $1,000.fine.The spec...  FORMULA      0       0   \n",
        "2                                License revocation.  FORMULA      1       0   \n",
        "3  Registration suspension for one year, stayed w...  FORMULA      0       0   \n",
        "4                                 License revocation  FORMULA      0       0   \n",
        "\n",
        "   Incompetence  Negligence  Sexual  Larceny  Other  Corporation  Revocation  \\\n",
        "0             0           0       0        1      0            0           0   \n",
        "1             0           0       0        0      1            0           0   \n",
        "2             0           0       0        0      0            0           1   \n",
        "3             0           0       0        0      1            0           0   \n",
        "4             0           0       0        0      1            0           1   \n",
        "\n",
        "       \n",
        "0 ...  \n",
        "1 ...  \n",
        "2 ...  \n",
        "3 ...  \n",
        "4 ...  \n",
        "\n",
        "[5 rows x 28 columns]"
       ]
      }
     ],
     "prompt_number": 6
    },
    {
     "cell_type": "code",
     "collapsed": false,
     "input": [
      "#Checkout the medical misconduct\n",
      "data['Misconduct Description'].head(20)\n",
      "dataList = list(data['Misconduct Description'])\n",
      "dataList[:5]"
     ],
     "language": "python",
     "metadata": {},
     "outputs": [
      {
       "metadata": {},
       "output_type": "pyout",
       "prompt_number": 54,
       "text": [
        "['The specialist assistant did not contest the charge that he was convicted in First District Court, Suffolk County at Islip, New York of petit larceny.',\n",
        " 'The specialist assistant did not contest the charge of having been convicted in Village Court of Morrisville, Madison County, New York of resisting arrest.',\n",
        " 'The Hearing Committee sustained the charge finding the physician assistant had been convicted in United States Court for the Southern District of New York of Conspiracy to Commit Mail Fraud.',\n",
        " 'The physician assistant admitted to having been convicted of knowingly and willfully receiving remuneration in exchange for ordering an item paid for under the Medicare and Medicaid Programs',\n",
        " 'The Hearing Committee sustained the charges finding the physician assistant of having been found guilty in an adjudicatory proceeding of violating New York State Department of Social Services regulations by providing poor quality care; ordering medical services in excess of the patients needs and failing to maintain accurate patient records.']"
       ]
      }
     ],
     "prompt_number": 54
    },
    {
     "cell_type": "code",
     "collapsed": false,
     "input": [
      "#Text mining\n",
      "import nltk\n",
      "from nltk.collocations import *\n",
      "\n",
      "initial_dictionary = ['negligence', 'fraud', 'harass', 'sexual', 'larceny', 'incompetence']"
     ],
     "language": "python",
     "metadata": {},
     "outputs": [],
     "prompt_number": 16
    },
    {
     "cell_type": "code",
     "collapsed": false,
     "input": [
      "dataEnumerate = list(enumerate(dataList))\n",
      "dataEnumerate[:5]"
     ],
     "language": "python",
     "metadata": {},
     "outputs": [
      {
       "metadata": {},
       "output_type": "pyout",
       "prompt_number": 57,
       "text": [
        "[(0,\n",
        "  'The specialist assistant did not contest the charge that he was convicted in First District Court, Suffolk County at Islip, New York of petit larceny.'),\n",
        " (1,\n",
        "  'The specialist assistant did not contest the charge of having been convicted in Village Court of Morrisville, Madison County, New York of resisting arrest.'),\n",
        " (2,\n",
        "  'The Hearing Committee sustained the charge finding the physician assistant had been convicted in United States Court for the Southern District of New York of Conspiracy to Commit Mail Fraud.'),\n",
        " (3,\n",
        "  'The physician assistant admitted to having been convicted of knowingly and willfully receiving remuneration in exchange for ordering an item paid for under the Medicare and Medicaid Programs'),\n",
        " (4,\n",
        "  'The Hearing Committee sustained the charges finding the physician assistant of having been found guilty in an adjudicatory proceeding of violating New York State Department of Social Services regulations by providing poor quality care; ordering medical services in excess of the patients needs and failing to maintain accurate patient records.')]"
       ]
      }
     ],
     "prompt_number": 57
    },
    {
     "cell_type": "code",
     "collapsed": false,
     "input": [
      "misconductDictionary = {}\n",
      "for word in initial_dictionary[:2]:\n",
      "    containsWord = []\n",
      "    for d in dataEnumerate:\n",
      "        try:\n",
      "            if word in d[1]:\n",
      "                containsWord.append(d)\n",
      "        except:\n",
      "            pass\n",
      "        \n",
      "    misconductDictionary[word] = containsWord\n"
     ],
     "language": "python",
     "metadata": {},
     "outputs": [],
     "prompt_number": 60
    },
    {
     "cell_type": "code",
     "collapsed": false,
     "input": [
      "misconductDictionary"
     ],
     "language": "python",
     "metadata": {},
     "outputs": [
      {
       "metadata": {},
       "output_type": "pyout",
       "prompt_number": 61,
       "text": [
        "{'fraud': [], 'negligence': []}"
       ]
      }
     ],
     "prompt_number": 61
    },
    {
     "cell_type": "code",
     "collapsed": false,
     "input": [
      "foo = ['a','b','c']\n",
      "list(enumerate(foo))"
     ],
     "language": "python",
     "metadata": {},
     "outputs": [
      {
       "metadata": {},
       "output_type": "pyout",
       "prompt_number": 64,
       "text": [
        "[(0, 'a'), (1, 'b'), (2, 'c')]"
       ]
      }
     ],
     "prompt_number": 64
    }
   ],
   "metadata": {}
  }
 ]
}